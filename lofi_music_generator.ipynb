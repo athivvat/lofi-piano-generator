{
  "nbformat": 4,
  "nbformat_minor": 5,
  "metadata": {
    "kernelspec": {
      "display_name": "Python 3",
      "language": "python",
      "name": "python3"
    },
    "language_info": {
      "codemirror_mode": {
        "name": "ipython",
        "version": 3
      },
      "file_extension": ".py",
      "mimetype": "text/x-python",
      "name": "python",
      "nbconvert_exporter": "python",
      "pygments_lexer": "ipython3",
      "version": "3.8.10"
    },
    "colab": {
      "name": "lofi-music-generator.ipynb",
      "provenance": [],
      "collapsed_sections": []
    },
    "accelerator": "GPU"
  },
  "cells": [
    {
      "cell_type": "code",
      "metadata": {
        "id": "a8090312"
      },
      "source": [
        "import glob\n",
        "import pickle\n",
        "import numpy\n",
        "from music21 import converter, instrument, note, stream, chord\n",
        "from keras.models import Sequential\n",
        "from keras.layers import Dense\n",
        "from keras.layers import Dropout\n",
        "from keras.layers import LSTM\n",
        "from keras.layers import BatchNormalization as BatchNorm\n",
        "from keras.layers import Activation\n",
        "from keras.utils import np_utils\n",
        "from keras.callbacks import ModelCheckpoint"
      ],
      "id": "a8090312",
      "execution_count": 1,
      "outputs": []
    },
    {
      "cell_type": "code",
      "metadata": {
        "colab": {
          "base_uri": "https://localhost:8080/"
        },
        "id": "S4RgL1w_6YlJ",
        "outputId": "12954147-1106-49da-95f8-448177085157"
      },
      "source": [
        "from google.colab import drive\n",
        "drive.mount('/content/drive')"
      ],
      "id": "S4RgL1w_6YlJ",
      "execution_count": 2,
      "outputs": [
        {
          "output_type": "stream",
          "text": [
            "Drive already mounted at /content/drive; to attempt to forcibly remount, call drive.mount(\"/content/drive\", force_remount=True).\n"
          ],
          "name": "stdout"
        }
      ]
    },
    {
      "cell_type": "markdown",
      "metadata": {
        "id": "MLe_7uP0IWJW"
      },
      "source": [
        "# 1. Data Pre-processing"
      ],
      "id": "MLe_7uP0IWJW"
    },
    {
      "cell_type": "code",
      "metadata": {
        "id": "49a4f254",
        "colab": {
          "base_uri": "https://localhost:8080/"
        },
        "outputId": "c3d2e827-f4be-4251-c9c7-67254a69633d"
      },
      "source": [
        "\"\"\" Get all the notes and chords from the midi files in the ./midi_songs directory \"\"\"\n",
        "notes = []\n",
        "\n",
        "for file in glob.glob(\"/content/drive/MyDrive/lofi-music-generator/songs/*.mid*\"):\n",
        "    midi = converter.parse(file)\n",
        "    \n",
        "    print(\"Parsing %s\" % file)\n",
        "    \n",
        "    notes_to_parse = None\n",
        "    \n",
        "    try: # file has instrument parts\n",
        "        s2 = instrument.partitionByInstrument(midi)\n",
        "        notes_to_parse = s2.parts[0].recurse()\n",
        "    except: # file has notes in a flat structure\n",
        "        notes_to_parse = midi.flat.notes\n",
        "        \n",
        "    for element in notes_to_parse:\n",
        "        if isinstance(element, note.Note):\n",
        "            notes.append(str(element.pitch))\n",
        "        elif isinstance(element, chord.Chord):\n",
        "            notes.append('.'.join(str(n) for n in element.normalOrder))\n",
        "\n",
        "with open('/content/drive/MyDrive/lofi-music-generator/data/notes', 'wb') as filepath:\n",
        "    pickle.dump(notes, filepath)"
      ],
      "id": "49a4f254",
      "execution_count": 3,
      "outputs": [
        {
          "output_type": "stream",
          "text": [
            "Parsing /content/drive/MyDrive/lofi-music-generator/songs/figaro.mid\n",
            "Parsing /content/drive/MyDrive/lofi-music-generator/songs/LofiPianoSample8.mid\n",
            "Parsing /content/drive/MyDrive/lofi-music-generator/songs/thenightmarebegins.mid\n",
            "Parsing /content/drive/MyDrive/lofi-music-generator/songs/Life_Stream.mid\n",
            "Parsing /content/drive/MyDrive/lofi-music-generator/songs/rufus.mid\n",
            "Parsing /content/drive/MyDrive/lofi-music-generator/songs/Zelda_Overworld.mid\n",
            "Parsing /content/drive/MyDrive/lofi-music-generator/songs/JENOVA.mid\n",
            "Parsing /content/drive/MyDrive/lofi-music-generator/songs/LofiPianoSample9.mid\n",
            "Parsing /content/drive/MyDrive/lofi-music-generator/songs/FF4.mid\n",
            "Parsing /content/drive/MyDrive/lofi-music-generator/songs/ff4-fight1.mid\n",
            "Parsing /content/drive/MyDrive/lofi-music-generator/songs/BlueStone_LastDungeon.mid\n",
            "Parsing /content/drive/MyDrive/lofi-music-generator/songs/ff8-lfp.mid\n",
            "Parsing /content/drive/MyDrive/lofi-music-generator/songs/0fithos.mid\n",
            "Parsing /content/drive/MyDrive/lofi-music-generator/songs/ultros.mid\n",
            "Parsing /content/drive/MyDrive/lofi-music-generator/songs/dayafter.mid\n",
            "Parsing /content/drive/MyDrive/lofi-music-generator/songs/FFIII_Edgar_And_Sabin_Piano.mid\n",
            "Parsing /content/drive/MyDrive/lofi-music-generator/songs/FFIX_Piano.mid\n",
            "Parsing /content/drive/MyDrive/lofi-music-generator/songs/dontbeafraid.mid\n",
            "Parsing /content/drive/MyDrive/lofi-music-generator/songs/FF6epitaph_piano.mid\n",
            "Parsing /content/drive/MyDrive/lofi-music-generator/songs/ff4_piano_collections-main_theme.mid\n",
            "Parsing /content/drive/MyDrive/lofi-music-generator/songs/redwings.mid\n",
            "Parsing /content/drive/MyDrive/lofi-music-generator/songs/roseofmay-piano.mid\n",
            "Parsing /content/drive/MyDrive/lofi-music-generator/songs/Final_Fantasy_Matouyas_Cave_Piano.mid\n",
            "Parsing /content/drive/MyDrive/lofi-music-generator/songs/sobf.mid\n",
            "Parsing /content/drive/MyDrive/lofi-music-generator/songs/waltz_de_choco.mid\n",
            "Parsing /content/drive/MyDrive/lofi-music-generator/songs/z_aeristhemepiano.mid\n",
            "Parsing /content/drive/MyDrive/lofi-music-generator/songs/8.mid\n",
            "Parsing /content/drive/MyDrive/lofi-music-generator/songs/In_Zanarkand.mid\n",
            "Parsing /content/drive/MyDrive/lofi-music-generator/songs/Final_Fantasy_7_-_Judgement_Day_Piano.mid\n",
            "Parsing /content/drive/MyDrive/lofi-music-generator/songs/AT.mid\n",
            "Parsing /content/drive/MyDrive/lofi-music-generator/songs/ff4pclov.mid\n",
            "Parsing /content/drive/MyDrive/lofi-music-generator/songs/FFX_-_Ending_Theme_(Piano_Version)_-_by_Angel_FF.mid\n",
            "Parsing /content/drive/MyDrive/lofi-music-generator/songs/lurk_in_dark.mid\n",
            "Parsing /content/drive/MyDrive/lofi-music-generator/songs/Cids.mid\n",
            "Parsing /content/drive/MyDrive/lofi-music-generator/songs/Ff7-One_Winged.mid\n",
            "Parsing /content/drive/MyDrive/lofi-music-generator/songs/ff7themep.mid\n",
            "Parsing /content/drive/MyDrive/lofi-music-generator/songs/electric_de_chocobo.mid\n",
            "Parsing /content/drive/MyDrive/lofi-music-generator/songs/Finalfantasy5gilgameshp.mid\n",
            "Parsing /content/drive/MyDrive/lofi-music-generator/songs/FFVII_BATTLE.mid\n",
            "Parsing /content/drive/MyDrive/lofi-music-generator/songs/ff4-airship.mid\n",
            "Parsing /content/drive/MyDrive/lofi-music-generator/songs/sera_.mid\n",
            "Parsing /content/drive/MyDrive/lofi-music-generator/songs/Suteki_Da_Ne_(Piano_Version).mid\n",
            "Parsing /content/drive/MyDrive/lofi-music-generator/songs/Oppressed.mid\n",
            "Parsing /content/drive/MyDrive/lofi-music-generator/songs/caitsith.mid\n",
            "Parsing /content/drive/MyDrive/lofi-music-generator/songs/FF3_Battle_(Piano).mid\n",
            "Parsing /content/drive/MyDrive/lofi-music-generator/songs/FF8_Shuffle_or_boogie_pc.mid\n",
            "Parsing /content/drive/MyDrive/lofi-music-generator/songs/ahead_on_our_way_piano.mid\n",
            "Parsing /content/drive/MyDrive/lofi-music-generator/songs/DOS.mid\n",
            "Parsing /content/drive/MyDrive/lofi-music-generator/songs/balamb.mid\n",
            "Parsing /content/drive/MyDrive/lofi-music-generator/songs/Ff7-Jenova_Absolute.mid\n",
            "Parsing /content/drive/MyDrive/lofi-music-generator/songs/bcm.mid\n",
            "Parsing /content/drive/MyDrive/lofi-music-generator/songs/FFIXQuMarshP.mid\n",
            "Parsing /content/drive/MyDrive/lofi-music-generator/songs/traitor.mid\n",
            "Parsing /content/drive/MyDrive/lofi-music-generator/songs/Finalfantasy6fanfarecomplete.mid\n",
            "Parsing /content/drive/MyDrive/lofi-music-generator/songs/ff1battp.mid\n",
            "Parsing /content/drive/MyDrive/lofi-music-generator/songs/HighwindTakestotheSkies.mid\n",
            "Parsing /content/drive/MyDrive/lofi-music-generator/songs/Rachel_Piano_tempofix.mid\n",
            "Parsing /content/drive/MyDrive/lofi-music-generator/songs/Eternal_Harvest.mid\n",
            "Parsing /content/drive/MyDrive/lofi-music-generator/songs/Gold_Silver_Rival_Battle.mid\n",
            "Parsing /content/drive/MyDrive/lofi-music-generator/songs/ff4-town.mid\n",
            "Parsing /content/drive/MyDrive/lofi-music-generator/songs/Fierce_Battle_(Piano).mid\n",
            "Parsing /content/drive/MyDrive/lofi-music-generator/songs/decisive.mid\n",
            "Parsing /content/drive/MyDrive/lofi-music-generator/songs/braska.mid\n",
            "Parsing /content/drive/MyDrive/lofi-music-generator/songs/Kingdom_Hearts_Traverse_Town.mid\n",
            "Parsing /content/drive/MyDrive/lofi-music-generator/songs/FF3_Third_Phase_Final_(Piano).mid\n",
            "Parsing /content/drive/MyDrive/lofi-music-generator/songs/mining.mid\n",
            "Parsing /content/drive/MyDrive/lofi-music-generator/songs/path_of_repentance.mid\n",
            "Parsing /content/drive/MyDrive/lofi-music-generator/songs/Ff7-Cinco.mid\n",
            "Parsing /content/drive/MyDrive/lofi-music-generator/songs/fortresscondor.mid\n",
            "Parsing /content/drive/MyDrive/lofi-music-generator/songs/thoughts.mid\n",
            "Parsing /content/drive/MyDrive/lofi-music-generator/songs/sandy.mid\n",
            "Parsing /content/drive/MyDrive/lofi-music-generator/songs/costadsol.mid\n",
            "Parsing /content/drive/MyDrive/lofi-music-generator/songs/VincentPiano.mid\n",
            "Parsing /content/drive/MyDrive/lofi-music-generator/songs/ViviinAlexandria.mid\n",
            "Parsing /content/drive/MyDrive/lofi-music-generator/songs/Still_Alive-1.mid\n",
            "Parsing /content/drive/MyDrive/lofi-music-generator/songs/Fyw_piano.mid\n",
            "Parsing /content/drive/MyDrive/lofi-music-generator/songs/EyesOnMePiano.mid\n",
            "Parsing /content/drive/MyDrive/lofi-music-generator/songs/goldsaucer.mid\n",
            "Parsing /content/drive/MyDrive/lofi-music-generator/songs/gerudo.mid\n",
            "Parsing /content/drive/MyDrive/lofi-music-generator/songs/Ff4-BattleLust.mid\n",
            "Parsing /content/drive/MyDrive/lofi-music-generator/songs/ff6shap.mid\n",
            "Parsing /content/drive/MyDrive/lofi-music-generator/songs/Rydia_pc.mid\n",
            "Parsing /content/drive/MyDrive/lofi-music-generator/songs/ultimafro.mid\n",
            "Parsing /content/drive/MyDrive/lofi-music-generator/songs/great_war.mid\n",
            "Parsing /content/drive/MyDrive/lofi-music-generator/songs/OTD5YA.mid\n",
            "Parsing /content/drive/MyDrive/lofi-music-generator/songs/LofiPianoSample1.mid\n",
            "Parsing /content/drive/MyDrive/lofi-music-generator/songs/LofiPianoSample2.mid\n",
            "Parsing /content/drive/MyDrive/lofi-music-generator/songs/tpirtsd-piano.mid\n",
            "Parsing /content/drive/MyDrive/lofi-music-generator/songs/ff7-mainmidi.mid\n",
            "Parsing /content/drive/MyDrive/lofi-music-generator/songs/ff11_awakening_piano.mid\n",
            "Parsing /content/drive/MyDrive/lofi-music-generator/songs/PianoMiniature.mid\n",
            "Parsing /content/drive/MyDrive/lofi-music-generator/songs/LofiPianoSample7.mid\n",
            "Parsing /content/drive/MyDrive/lofi-music-generator/songs/pkelite4.mid\n",
            "Parsing /content/drive/MyDrive/lofi-music-generator/songs/Kingdom_Hearts_Dearly_Beloved.mid\n",
            "Parsing /content/drive/MyDrive/lofi-music-generator/songs/LofiPianoSample6.mid\n",
            "Parsing /content/drive/MyDrive/lofi-music-generator/songs/LofiPianoSample3.mid\n",
            "Parsing /content/drive/MyDrive/lofi-music-generator/songs/cosmo.mid\n",
            "Parsing /content/drive/MyDrive/lofi-music-generator/songs/tifap.mid\n",
            "Parsing /content/drive/MyDrive/lofi-music-generator/songs/relmstheme-piano.mid\n",
            "Parsing /content/drive/MyDrive/lofi-music-generator/songs/LofiPianoSample4.mid\n",
            "Parsing /content/drive/MyDrive/lofi-music-generator/songs/Fiend_Battle_(Piano).mid\n",
            "Parsing /content/drive/MyDrive/lofi-music-generator/songs/LofiPianoSample5.mid\n"
          ],
          "name": "stdout"
        }
      ]
    },
    {
      "cell_type": "code",
      "metadata": {
        "id": "252a53cb"
      },
      "source": [
        "\"\"\" Prepare the sequences used by the Neural Network \"\"\"\n",
        "n_vocab = len(set(notes)) \n",
        "\n",
        "sequence_length = 32\n",
        "\n",
        "# get all pitch names\n",
        "pitchnames = sorted(set(item for item in notes))\n",
        "\n",
        "# create a dictionary to map pitches to integers\n",
        "note_to_int = dict((note, number) for number, note in enumerate(pitchnames))\n",
        "\n",
        "network_input = []\n",
        "network_output = []\n",
        "\n",
        "# create input sequences and the corresponding outputs\n",
        "for i in range(0, len(notes) - sequence_length, 1):\n",
        "  sequence_in = notes[i:i + sequence_length]\n",
        "  sequence_out = notes[i + sequence_length]\n",
        "  network_input.append([note_to_int[char] for char in sequence_in])\n",
        "  network_output.append(note_to_int[sequence_out])\n",
        "    \n",
        "  n_patterns = len(network_input)\n",
        "\n",
        "# reshape the input into a format compatible with LSTM layers\n",
        "network_input = numpy.reshape(network_input, (n_patterns, sequence_length, 1))\n",
        "\n",
        "# normalize input\n",
        "network_input = network_input / float(n_vocab)\n",
        "\n",
        "network_output = np_utils.to_categorical(network_output)"
      ],
      "id": "252a53cb",
      "execution_count": 4,
      "outputs": []
    },
    {
      "cell_type": "markdown",
      "metadata": {
        "id": "HjMWfgjAIGpN"
      },
      "source": [
        "# 2. LSTM Neural Network"
      ],
      "id": "HjMWfgjAIGpN"
    },
    {
      "cell_type": "code",
      "metadata": {
        "id": "88327b09"
      },
      "source": [
        "\"\"\" Create the structure of the neural network \"\"\"\n",
        "model = Sequential()\n",
        "model.add(LSTM(\n",
        "    256,\n",
        "    input_shape=(network_input.shape[1], network_input.shape[2]),\n",
        "    return_sequences=True\n",
        "))\n",
        "model.add(Dropout(0.3))\n",
        "model.add(LSTM(512, return_sequences=True))\n",
        "model.add(Dropout(0.3))\n",
        "model.add(LSTM(256))\n",
        "model.add(Dense(256))\n",
        "model.add(Dropout(0.3))\n",
        "model.add(Dense(n_vocab))\n",
        "model.add(Activation('softmax'))\n",
        "\n",
        "model.compile(loss='categorical_crossentropy', optimizer='rmsprop')"
      ],
      "id": "88327b09",
      "execution_count": 5,
      "outputs": []
    },
    {
      "cell_type": "code",
      "metadata": {
        "id": "4071b409"
      },
      "source": [
        "\"\"\" Create Model Checkpoint \"\"\"\n",
        "filepath = \"/content/drive/MyDrive/lofi-music-generator/training_weights/lofi-music-weights-1{epoch:02d}-{loss:.4f}.hdf5\"\n",
        "checkpoint = ModelCheckpoint(\n",
        "    filepath,\n",
        "    monitor='loss',\n",
        "    verbose=0,\n",
        "    save_best_only=True,\n",
        "    mode='min'\n",
        ")\n",
        "callbacks_list = [checkpoint]"
      ],
      "id": "4071b409",
      "execution_count": 6,
      "outputs": []
    },
    {
      "cell_type": "code",
      "metadata": {
        "colab": {
          "base_uri": "https://localhost:8080/"
        },
        "id": "gCxBUC7EH3Cn",
        "outputId": "4a1b3672-0a12-455a-bdd4-1ef37e750f79"
      },
      "source": [
        "\"\"\" Summary the neural network \"\"\"\n",
        "model.summary()"
      ],
      "id": "gCxBUC7EH3Cn",
      "execution_count": 7,
      "outputs": [
        {
          "output_type": "stream",
          "text": [
            "Model: \"sequential\"\n",
            "_________________________________________________________________\n",
            "Layer (type)                 Output Shape              Param #   \n",
            "=================================================================\n",
            "lstm (LSTM)                  (None, 32, 256)           264192    \n",
            "_________________________________________________________________\n",
            "dropout (Dropout)            (None, 32, 256)           0         \n",
            "_________________________________________________________________\n",
            "lstm_1 (LSTM)                (None, 32, 512)           1574912   \n",
            "_________________________________________________________________\n",
            "dropout_1 (Dropout)          (None, 32, 512)           0         \n",
            "_________________________________________________________________\n",
            "lstm_2 (LSTM)                (None, 256)               787456    \n",
            "_________________________________________________________________\n",
            "dense (Dense)                (None, 256)               65792     \n",
            "_________________________________________________________________\n",
            "dropout_2 (Dropout)          (None, 256)               0         \n",
            "_________________________________________________________________\n",
            "dense_1 (Dense)              (None, 383)               98431     \n",
            "_________________________________________________________________\n",
            "activation (Activation)      (None, 383)               0         \n",
            "=================================================================\n",
            "Total params: 2,790,783\n",
            "Trainable params: 2,790,783\n",
            "Non-trainable params: 0\n",
            "_________________________________________________________________\n"
          ],
          "name": "stdout"
        }
      ]
    },
    {
      "cell_type": "code",
      "metadata": {
        "id": "ff8b3fe3",
        "colab": {
          "base_uri": "https://localhost:8080/"
        },
        "outputId": "1219db9b-eef6-432d-e0d2-da9aa152f58a"
      },
      "source": [
        "\"\"\" Train the neural network \"\"\"\n",
        "model.fit(network_input, network_output, epochs=100, batch_size=32, callbacks=callbacks_list)"
      ],
      "id": "ff8b3fe3",
      "execution_count": null,
      "outputs": [
        {
          "output_type": "stream",
          "text": [
            "Epoch 1/100\n",
            "1849/1849 [==============================] - 45s 15ms/step - loss: 4.7699\n",
            "Epoch 2/100\n",
            "1565/1849 [========================>.....] - ETA: 4s - loss: 4.5721"
          ],
          "name": "stdout"
        }
      ]
    },
    {
      "cell_type": "markdown",
      "metadata": {
        "id": "nJidsU9OH8Hp"
      },
      "source": [
        "# 3. Generate Music Melody"
      ],
      "id": "nJidsU9OH8Hp"
    },
    {
      "cell_type": "code",
      "metadata": {
        "id": "VmkBvrFFGG5Z"
      },
      "source": [
        "\"\"\" Generate notes from the neural network based on a sequence of notes \"\"\"\n",
        "# pick a random sequence from the input as a starting point for the prediction\n",
        "start = numpy.random.randint(0, len(network_input)-1)\n",
        "\n",
        "int_to_note = dict((number, note) for number, note in enumerate(pitchnames))\n",
        "\n",
        "pattern = network_input[start]\n",
        "prediction_output = []\n",
        "\n",
        "\n",
        "# generate 300 notes\n",
        "for note_index in range(300):\n",
        "  prediction_input = numpy.reshape(pattern, (1, len(pattern), 1))\n",
        "\n",
        "  prediction = model.predict(prediction_input, verbose=0)\n",
        "\n",
        "  index = numpy.argmax(prediction)\n",
        "    \n",
        "  result = int_to_note[index]\n",
        "  prediction_output.append(result)    \n",
        "\n",
        "  pattern = pattern[1:]*n_vocab\n",
        "  pattern = numpy.append(pattern, index)\n",
        "  pattern = pattern / float(n_vocab)"
      ],
      "id": "VmkBvrFFGG5Z",
      "execution_count": null,
      "outputs": []
    },
    {
      "cell_type": "markdown",
      "metadata": {
        "id": "th7M8qP9I4Gm"
      },
      "source": [
        "# 4. Create Music MIDI File"
      ],
      "id": "th7M8qP9I4Gm"
    },
    {
      "cell_type": "code",
      "metadata": {
        "id": "1LQyzW-mI6Vx"
      },
      "source": [
        "\"\"\" convert the output from the prediction to notes and create a midi file from the notes \"\"\"\n",
        "offset = 0\n",
        "output_notes = []\n",
        "\n",
        "# create note and chord objects based on the values generated by the model\n",
        "for pattern in prediction_output:\n",
        "    # pattern is a chord\n",
        "    if ('.' in pattern) or pattern.isdigit():\n",
        "        notes_in_chord = pattern.split('.')\n",
        "        notes = []\n",
        "        for current_note in notes_in_chord:\n",
        "            new_note = note.Note(int(current_note))\n",
        "            new_note.storedInstrument = instrument.Piano()\n",
        "            notes.append(new_note)\n",
        "        new_chord = chord.Chord(notes)\n",
        "        new_chord.offset = offset\n",
        "        output_notes.append(new_chord)\n",
        "    # pattern is a note\n",
        "    else:\n",
        "        new_note = note.Note(pattern)\n",
        "        new_note.offset = offset\n",
        "        new_note.storedInstrument = instrument.Piano()\n",
        "        output_notes.append(new_note)\n",
        "\n",
        "    # increase offset each iteration so that notes do not stack\n",
        "    offset += 0.5\n",
        "\n",
        "midi_stream = stream.Stream(output_notes)\n",
        "\n",
        "midi_stream.write('midi', fp='output.mid')"
      ],
      "id": "1LQyzW-mI6Vx",
      "execution_count": null,
      "outputs": []
    },
    {
      "cell_type": "code",
      "metadata": {
        "id": "_368SSvWxWax"
      },
      "source": [
        ""
      ],
      "id": "_368SSvWxWax",
      "execution_count": null,
      "outputs": []
    }
  ]
}